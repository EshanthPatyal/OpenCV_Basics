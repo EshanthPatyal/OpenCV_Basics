{
 "cells": [
  {
   "cell_type": "code",
   "execution_count": 1,
   "id": "52d680d0",
   "metadata": {},
   "outputs": [],
   "source": [
    "#Team members(team 18)\n",
    "#21ucs078 Eshanth Patyal\n",
    "#21ucs254 Yash R. Khandelwal\n",
    "#21ucs071 Divyam Agarwal\n",
    "import cv2"
   ]
  },
  {
   "cell_type": "code",
   "execution_count": 2,
   "id": "91b1bdba",
   "metadata": {},
   "outputs": [
    {
     "name": "stdout",
     "output_type": "stream",
     "text": [
      "Image read successfully\n"
     ]
    }
   ],
   "source": [
    "mat = cv2.imread(r\"C:\\Users\\91858\\Desktop\\Assignment2.jpg\")\n",
    "\n",
    "if mat is None:\n",
    "    print(\"Error: Image cannot be loaded\")\n",
    "    exit(0);\n",
    "else:\n",
    "    print(\"Image read successfully\")\n",
    "    \n",
    "\n",
    "\n"
   ]
  },
  {
   "cell_type": "code",
   "execution_count": 3,
   "id": "94b78a20",
   "metadata": {},
   "outputs": [],
   "source": [
    "\n",
    "hsv_img=cv2.cvtColor(mat, cv2.COLOR_BGR2HSV)\n",
    "\n"
   ]
  },
  {
   "cell_type": "code",
   "execution_count": 4,
   "id": "cff9c264",
   "metadata": {},
   "outputs": [],
   "source": [
    "cv2.namedWindow(\"image\", cv2.WINDOW_AUTOSIZE)\n",
    "\n",
    "cv2.imshow(\"image\",hsv_img)\n",
    "cv2.waitKey(0);\n",
    "cv2.destroyAllWindows()\n"
   ]
  },
  {
   "cell_type": "code",
   "execution_count": 5,
   "id": "a5059024",
   "metadata": {},
   "outputs": [],
   "source": [
    "#callback function for createTrackbar\n",
    "def nothing(x):\n",
    "    pass\n",
    "import numpy as np"
   ]
  },
  {
   "cell_type": "code",
   "execution_count": 6,
   "id": "116b282d",
   "metadata": {},
   "outputs": [
    {
     "name": "stdout",
     "output_type": "stream",
     "text": [
      "[[0, 39, 0], [25, 92, 255]]\n"
     ]
    }
   ],
   "source": [
    "cv2.namedWindow(\"Trackbars\", cv2.WINDOW_AUTOSIZE)\n",
    "#creating taskbars\n",
    "#dynamically changing range and seeing result is done through this code\n",
    "cv2.createTrackbar(\"L - H\", \"Trackbars\", 0, 179, nothing)\n",
    "cv2.createTrackbar(\"L - S\", \"Trackbars\", 0, 255, nothing)\n",
    "cv2.createTrackbar(\"L - V\", \"Trackbars\", 0, 255, nothing)\n",
    "cv2.createTrackbar(\"U - H\", \"Trackbars\", 179, 179, nothing)\n",
    "cv2.createTrackbar(\"U - S\", \"Trackbars\", 255, 255, nothing)\n",
    "cv2.createTrackbar(\"U - V\", \"Trackbars\", 255, 255, nothing)\n",
    "\n",
    "while True:\n",
    "    \n",
    "  # Trackbar l_h=Lower value of Hue and so on\n",
    "    l_h = cv2.getTrackbarPos(\"L - H\", \"Trackbars\")\n",
    "    l_s = cv2.getTrackbarPos(\"L - S\", \"Trackbars\")\n",
    "    l_v = cv2.getTrackbarPos(\"L - V\", \"Trackbars\")\n",
    "    u_h = cv2.getTrackbarPos(\"U - H\", \"Trackbars\")\n",
    "    u_s = cv2.getTrackbarPos(\"U - S\", \"Trackbars\")\n",
    "    u_v = cv2.getTrackbarPos(\"U - V\", \"Trackbars\")\n",
    " \n",
    "    # Setting Bounds\n",
    "    lower_range = np.array([l_h, l_s, l_v])\n",
    "    upper_range = np.array([u_h, u_s, u_v])\n",
    "    \n",
    "    #Filtering Image\n",
    "    mask = cv2.inRange(hsv_img, lower_range, upper_range)\n",
    " \n",
    "    # result image\n",
    "    res = cv2.bitwise_and(mat, mat, mask=mask)\n",
    "    \n",
    "    # stacking images\n",
    "    img_stack = cv2.cvtColor(mask, cv2.COLOR_GRAY2BGR)\n",
    "    stacked = np.hstack((img_stack,mat,res))\n",
    "    \n",
    "    cv2.imshow('Trackbars',stacked)\n",
    "    \n",
    "    # If the user presses ESC then exit the program\n",
    "    key = cv2.waitKey(1)\n",
    "    if key == 27:\n",
    "        break\n",
    "    \n",
    "    # If the user presses `s` then print this array.\n",
    "    if key == ord('s'):\n",
    "        # saving the image\n",
    "        # cv2.imwrite(\"hsv_mask.jpg\", mask_3)\n",
    "        thearray = [[l_h,l_s,l_v],[u_h, u_s, u_v]]\n",
    "        print(thearray)\n",
    "        break\n",
    "\n",
    "cv2.destroyAllWindows()"
   ]
  },
  {
   "cell_type": "code",
   "execution_count": 7,
   "id": "ae67e404",
   "metadata": {},
   "outputs": [],
   "source": [
    "#initial filtering done through thresholding\n",
    "masked_img=img_stack"
   ]
  },
  {
   "cell_type": "code",
   "execution_count": 8,
   "id": "a62a4122",
   "metadata": {},
   "outputs": [],
   "source": [
    "kernel = np.ones((5, 5), np.uint8)\n",
    "img_erosion = cv2.erode(masked_img, kernel, iterations=1)\n",
    "img_dilation = cv2.dilate(masked_img, kernel, iterations=1)"
   ]
  },
  {
   "cell_type": "code",
   "execution_count": 9,
   "id": "f3264541",
   "metadata": {},
   "outputs": [],
   "source": [
    "cv2.namedWindow(\"image\", cv2.WINDOW_AUTOSIZE)\n",
    "cv2.imshow(\"image\",img_dilation)\n",
    "cv2.waitKey(0);\n",
    "cv2.destroyAllWindows()\n",
    "#cv2.imwrite('img_dilation.jpg', img_dilation)"
   ]
  },
  {
   "cell_type": "code",
   "execution_count": 10,
   "id": "c5730159",
   "metadata": {},
   "outputs": [],
   "source": [
    "#9x9 kernel chosen by testing the code with different values \n",
    "kernel = np.ones((9, 9), np.uint8)\n",
    "\n",
    "dilation_img=cv2.erode(img_dilation, kernel, iterations=1)\n",
    "#cv2.imwrite('dilation_img.jpg', dilation_img)\n",
    "kernel1=np.ones((7,7),np.uint8)\n",
    "opening = cv2.morphologyEx(dilation_img, cv2.MORPH_CLOSE, kernel1,iterations=1)\n",
    "# opening_eroded=cv2.erode(opening,kernel,iterations=2)\n",
    "# [[0, 39, 0], [25, 93, 255]]\n",
    "\n",
    "cv2.namedWindow(\"image\", cv2.WINDOW_AUTOSIZE)\n",
    "cv2.imshow(\"image\",opening)\n",
    "#cv2.imwrite('opening.jpg', opening)\n",
    "cv2.waitKey(0);\n",
    "cv2.destroyAllWindows()"
   ]
  },
  {
   "cell_type": "code",
   "execution_count": 11,
   "id": "873f9c12",
   "metadata": {},
   "outputs": [],
   "source": [
    "img = cv2.cvtColor(opening, cv2.COLOR_BGR2GRAY)\n",
    "#finding contours\n",
    "contours, heirarchy = cv2.findContours(img, cv2.RETR_EXTERNAL, cv2.CHAIN_APPROX_SIMPLE)\n",
    "\n",
    "largest_contour = max(contours, key=cv2.contourArea)\n",
    "\n"
   ]
  },
  {
   "cell_type": "code",
   "execution_count": 12,
   "id": "0bc534ac",
   "metadata": {},
   "outputs": [
    {
     "data": {
      "text/plain": [
       "array([[0, 0, 0, ..., 0, 0, 0],\n",
       "       [0, 0, 0, ..., 0, 0, 0],\n",
       "       [0, 0, 0, ..., 0, 0, 0],\n",
       "       ...,\n",
       "       [0, 0, 0, ..., 0, 0, 0],\n",
       "       [0, 0, 0, ..., 0, 0, 0],\n",
       "       [0, 0, 0, ..., 0, 0, 0]], dtype=uint8)"
      ]
     },
     "execution_count": 12,
     "metadata": {},
     "output_type": "execute_result"
    }
   ],
   "source": [
    "mask = np.zeros_like(img)\n",
    "cv2.drawContours(mask, [largest_contour], 0, 255, -1)"
   ]
  },
  {
   "cell_type": "code",
   "execution_count": 13,
   "id": "2e5c282b",
   "metadata": {},
   "outputs": [],
   "source": [
    "\n",
    "cv2.namedWindow(\"image\", cv2.WINDOW_AUTOSIZE)\n",
    "cv2.imshow(\"image\",mask)\n",
    "cv2.waitKey(0);\n",
    "cv2.destroyAllWindows()\n",
    "#cv2.imwrite('mask.jpg', mask)"
   ]
  },
  {
   "cell_type": "code",
   "execution_count": 14,
   "id": "0d2a5eb3",
   "metadata": {},
   "outputs": [],
   "source": [
    "#final kernel values taken=3x3, 5x5, 7x7\n",
    "kernel_new = np.ones((7, 7), np.uint8)\n",
    "\n",
    "dilation_final=cv2.dilate(mask, kernel, iterations=2)"
   ]
  },
  {
   "cell_type": "code",
   "execution_count": 15,
   "id": "9104dc03",
   "metadata": {},
   "outputs": [
    {
     "data": {
      "text/plain": [
       "True"
      ]
     },
     "execution_count": 15,
     "metadata": {},
     "output_type": "execute_result"
    }
   ],
   "source": [
    "\n",
    "cv2.namedWindow(\"image\", cv2.WINDOW_AUTOSIZE)\n",
    "cv2.imshow(\"image\",dilation_final)\n",
    "cv2.waitKey(0);\n",
    "cv2.destroyAllWindows()\n",
    "cv2.imwrite('dilation_final.jpg', dilation_final)"
   ]
  },
  {
   "cell_type": "code",
   "execution_count": 16,
   "id": "7bf5fa56",
   "metadata": {},
   "outputs": [],
   "source": [
    "mask=dilation_final\n",
    "elephant_image = cv2.bitwise_and(mat, mat, mask=mask)\n",
    "\n",
    "# Save the extracted image\n",
    "#cv2.imwrite('final_elephant_image_7by7.jpg', elephant_image)"
   ]
  },
  {
   "cell_type": "code",
   "execution_count": 17,
   "id": "c413bd07",
   "metadata": {},
   "outputs": [],
   "source": [
    "#cv2.imwrite('final_elephant_image_stack.jpg', img_stack)"
   ]
  },
  {
   "cell_type": "code",
   "execution_count": null,
   "id": "adce7d12",
   "metadata": {},
   "outputs": [],
   "source": []
  }
 ],
 "metadata": {
  "kernelspec": {
   "display_name": "Python 3 (ipykernel)",
   "language": "python",
   "name": "python3"
  },
  "language_info": {
   "codemirror_mode": {
    "name": "ipython",
    "version": 3
   },
   "file_extension": ".py",
   "mimetype": "text/x-python",
   "name": "python",
   "nbconvert_exporter": "python",
   "pygments_lexer": "ipython3",
   "version": "3.9.16"
  }
 },
 "nbformat": 4,
 "nbformat_minor": 5
}
